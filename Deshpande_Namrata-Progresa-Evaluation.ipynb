{
 "cells": [
  {
   "cell_type": "markdown",
   "metadata": {
    "ein.tags": [
     "worksheet-0"
    ],
    "slideshow": {
     "slide_type": "-"
    }
   },
   "source": [
    "# Analysis of Causal Effects of Progresa Welfare Program (Mexico-1997)\n",
    "\n",
    "## Namrata Deshpande\n",
    "### Feb 10, 2017\n",
    "\n",
    "Note: This project was done as part of University of Washington course INFX 574 C: Data Science II: Machine Learning And Econometrics under the guidance of Prof. Jewin West and Prof. Ott Toomet."
   ]
  },
  {
   "cell_type": "markdown",
   "metadata": {
    "ein.tags": [
     "worksheet-0"
    ],
    "slideshow": {
     "slide_type": "-"
    }
   },
   "source": [
    "## Introduction\n",
    "\n",
    "For this project, we will be using data from the [Progresa program](http://en.wikipedia.org/wiki/Oportunidades), a government social assistance program in Mexico. The approaches used here for evaluation of impact are same as those described in the paper \"[School subsidies for the poor: evaluating the Mexican Progresa poverty program](http://www.sciencedirect.com/science/article/pii/S0304387803001858)\", by Paul Shultz. \n",
    "\n",
    "The goal of this project is to implement some of the basic econometric techniques to measure the impact of Progresa on secondary school enrollment rates. The timeline of the program was:\n",
    "\n",
    " * Baseline survey conducted in 1997\n",
    " * Intervention begins in 1998, \"Wave 1\" of data collected in 1998\n",
    " * \"Wave 2 of data\" collected in 1999\n",
    " * Evaluation ends in 2000, at which point the control villages were treated. \n",
    " \n",
    "The data are actual data collected to evaluate the impact of the Progresa program.  In this file, each row corresponds to an observation taken for a given child for a given year. There are two years of data (1997 and 1998), and just under 40,000 children who are surveyed in each year. For each child-year observation, the following variables are collected:\n",
    "\n",
    "| Variable name | Description|\n",
    "|---------|---------|\n",
    "|year\t  |year in which data is collected\n",
    "|sex\t  |male = 1|\n",
    "|indig\t  |indigenous = 1|\n",
    "|dist_sec |nearest distance to a secondary school|\n",
    "|sc\t      |enrolled in school in year of survey|\n",
    "|grc      |grade enrolled|\n",
    "|fam_n    |family size|\n",
    "|min_dist |\tmin distance to an urban center|\n",
    "|dist_cap |\tmin distance to the capital|\n",
    "|poor     |\tpoor = 1|\n",
    "|progresa |treatment =1|\n",
    "|hohedu\t  |years of schooling of head of household|\n",
    "|hohwag\t  |monthly wages of head of household|\n",
    "|welfare_index|\twelfare index used to classify poor|\n",
    "|hohsex\t  |gender of head of household (male=1)|\n",
    "|hohage   |age of head of household|\n",
    "|age      |years old|\n",
    "|folnum\t  |individual id|\n",
    "|village  |\tvillage id|\n",
    "|sc97\t  |schooling in 1997|"
   ]
  },
  {
   "cell_type": "code",
   "execution_count": 1,
   "metadata": {
    "collapsed": false
   },
   "outputs": [],
   "source": [
    "#Importing required libraries\n",
    "import IPython\n",
    "\n",
    "import numpy as np\n",
    "\n",
    "import scipy as sp\n",
    "\n",
    "import pandas as pd\n",
    "\n",
    "import matplotlib\n",
    "\n",
    "import sklearn\n",
    "\n",
    "import scipy.stats as stats\n",
    "\n",
    "import statsmodels.api as sm\n",
    "import statsmodels.formula.api as smf\n",
    "\n",
    "import matplotlib.pyplot as plt\n",
    "\n",
    "matplotlib.style.use('ggplot')"
   ]
  },
  {
   "cell_type": "markdown",
   "metadata": {
    "ein.tags": [
     "worksheet-0"
    ],
    "slideshow": {
     "slide_type": "-"
    }
   },
   "source": [
    "---\n",
    "\n",
    "## Part 1: Descriptive analysis\n",
    "\n",
    "### 1.1\tSummary Statistics\n",
    "\n",
    "First we will calculate summary statistics (mean and standard deviation) for all of the demographic variables in the dataset (i.e., everything except year, folnum, village). This step will help in understanding the shape of data we are dealing with."
   ]
  },
  {
   "cell_type": "code",
   "execution_count": 2,
   "metadata": {
    "collapsed": false
   },
   "outputs": [
    {
     "name": "stdout",
     "output_type": "stream",
     "text": [
      "(77250, 21)\n",
      "Index(['year', 'sex', 'indig', 'dist_sec', 'sc', 'grc', 'fam_n', 'min_dist',\n",
      "       'dist_cap', 'poor', 'progresa', 'hohedu', 'hohwag', 'welfare_index',\n",
      "       'hohsex', 'hohage', 'age', 'village', 'folnum', 'grc97', 'sc97'],\n",
      "      dtype='object')\n",
      "year               int64\n",
      "sex              float64\n",
      "indig            float64\n",
      "dist_sec         float64\n",
      "sc               float64\n",
      "grc              float64\n",
      "fam_n              int64\n",
      "min_dist         float64\n",
      "dist_cap         float64\n",
      "poor              object\n",
      "progresa          object\n",
      "hohedu             int64\n",
      "hohwag           float64\n",
      "welfare_index    float64\n",
      "hohsex           float64\n",
      "hohage           float64\n",
      "age                int64\n",
      "village            int64\n",
      "folnum             int64\n",
      "grc97              int64\n",
      "sc97             float64\n",
      "dtype: object\n"
     ]
    }
   ],
   "source": [
    "#importing the progresa data from csv file\n",
    "progresa_df= pd.read_csv('progresa_sample.csv')\n",
    "#number of rows and columns in the dataset\n",
    "print (progresa_df.shape)\n",
    "#Name and datatype of columns\n",
    "print (progresa_df.columns)\n",
    "#dtypes in progresa_df\n",
    "print (progresa_df.dtypes)"
   ]
  },
  {
   "cell_type": "code",
   "execution_count": 3,
   "metadata": {
    "collapsed": false
   },
   "outputs": [
    {
     "data": {
      "text/html": [
       "<div>\n",
       "<table border=\"1\" class=\"dataframe\">\n",
       "  <thead>\n",
       "    <tr style=\"text-align: right;\">\n",
       "      <th></th>\n",
       "      <th>mean</th>\n",
       "      <th>std</th>\n",
       "    </tr>\n",
       "  </thead>\n",
       "  <tbody>\n",
       "    <tr>\n",
       "      <th>age</th>\n",
       "      <td>11.141369</td>\n",
       "      <td>2.995374</td>\n",
       "    </tr>\n",
       "    <tr>\n",
       "      <th>dist_cap</th>\n",
       "      <td>148.747707</td>\n",
       "      <td>77.134043</td>\n",
       "    </tr>\n",
       "    <tr>\n",
       "      <th>dist_sec</th>\n",
       "      <td>2.346990</td>\n",
       "      <td>2.111281</td>\n",
       "    </tr>\n",
       "    <tr>\n",
       "      <th>fam_n</th>\n",
       "      <td>7.224666</td>\n",
       "      <td>2.329421</td>\n",
       "    </tr>\n",
       "    <tr>\n",
       "      <th>grc</th>\n",
       "      <td>4.089494</td>\n",
       "      <td>2.447608</td>\n",
       "    </tr>\n",
       "    <tr>\n",
       "      <th>grc97</th>\n",
       "      <td>3.762656</td>\n",
       "      <td>2.449568</td>\n",
       "    </tr>\n",
       "    <tr>\n",
       "      <th>hohage</th>\n",
       "      <td>44.262224</td>\n",
       "      <td>11.457772</td>\n",
       "    </tr>\n",
       "    <tr>\n",
       "      <th>hohedu</th>\n",
       "      <td>2.853908</td>\n",
       "      <td>2.655106</td>\n",
       "    </tr>\n",
       "    <tr>\n",
       "      <th>hohsex</th>\n",
       "      <td>0.927744</td>\n",
       "      <td>0.258914</td>\n",
       "    </tr>\n",
       "    <tr>\n",
       "      <th>hohwag</th>\n",
       "      <td>592.782484</td>\n",
       "      <td>791.378223</td>\n",
       "    </tr>\n",
       "    <tr>\n",
       "      <th>indig</th>\n",
       "      <td>0.291305</td>\n",
       "      <td>0.454367</td>\n",
       "    </tr>\n",
       "    <tr>\n",
       "      <th>min_dist</th>\n",
       "      <td>103.595249</td>\n",
       "      <td>42.025512</td>\n",
       "    </tr>\n",
       "    <tr>\n",
       "      <th>sc</th>\n",
       "      <td>0.821102</td>\n",
       "      <td>0.383270</td>\n",
       "    </tr>\n",
       "    <tr>\n",
       "      <th>sc97</th>\n",
       "      <td>0.839263</td>\n",
       "      <td>0.367291</td>\n",
       "    </tr>\n",
       "    <tr>\n",
       "      <th>sex</th>\n",
       "      <td>0.513572</td>\n",
       "      <td>0.499819</td>\n",
       "    </tr>\n",
       "    <tr>\n",
       "      <th>welfare_index</th>\n",
       "      <td>690.196267</td>\n",
       "      <td>139.489218</td>\n",
       "    </tr>\n",
       "  </tbody>\n",
       "</table>\n",
       "</div>"
      ],
      "text/plain": [
       "                     mean         std\n",
       "age             11.141369    2.995374\n",
       "dist_cap       148.747707   77.134043\n",
       "dist_sec         2.346990    2.111281\n",
       "fam_n            7.224666    2.329421\n",
       "grc              4.089494    2.447608\n",
       "grc97            3.762656    2.449568\n",
       "hohage          44.262224   11.457772\n",
       "hohedu           2.853908    2.655106\n",
       "hohsex           0.927744    0.258914\n",
       "hohwag         592.782484  791.378223\n",
       "indig            0.291305    0.454367\n",
       "min_dist       103.595249   42.025512\n",
       "sc               0.821102    0.383270\n",
       "sc97             0.839263    0.367291\n",
       "sex              0.513572    0.499819\n",
       "welfare_index  690.196267  139.489218"
      ]
     },
     "execution_count": 3,
     "metadata": {},
     "output_type": "execute_result"
    }
   ],
   "source": [
    "#Summary Stats\n",
    "#dropping non demographical variables\n",
    "df= progresa_df.drop(['year', 'folnum', 'village'], axis=1)\n",
    "#calculating mean and standard deviation and arranging alphabetically\n",
    "pd.DataFrame(df.dropna().describe().loc[['mean','std']].transpose()).sort_index(axis=0)\n"
   ]
  },
  {
   "cell_type": "code",
   "execution_count": 4,
   "metadata": {
    "collapsed": false
   },
   "outputs": [
    {
     "data": {
      "text/html": [
       "<div>\n",
       "<table border=\"1\" class=\"dataframe\">\n",
       "  <thead>\n",
       "    <tr style=\"text-align: right;\">\n",
       "      <th></th>\n",
       "      <th>count</th>\n",
       "      <th>unique</th>\n",
       "      <th>top</th>\n",
       "      <th>freq</th>\n",
       "    </tr>\n",
       "  </thead>\n",
       "  <tbody>\n",
       "    <tr>\n",
       "      <th>hohsex</th>\n",
       "      <td>77230</td>\n",
       "      <td>2</td>\n",
       "      <td>1</td>\n",
       "      <td>71452</td>\n",
       "    </tr>\n",
       "    <tr>\n",
       "      <th>poor</th>\n",
       "      <td>77250</td>\n",
       "      <td>2</td>\n",
       "      <td>pobre</td>\n",
       "      <td>65392</td>\n",
       "    </tr>\n",
       "    <tr>\n",
       "      <th>progresa</th>\n",
       "      <td>77250</td>\n",
       "      <td>2</td>\n",
       "      <td>basal</td>\n",
       "      <td>47560</td>\n",
       "    </tr>\n",
       "    <tr>\n",
       "      <th>sex</th>\n",
       "      <td>77226</td>\n",
       "      <td>2</td>\n",
       "      <td>1</td>\n",
       "      <td>39556</td>\n",
       "    </tr>\n",
       "  </tbody>\n",
       "</table>\n",
       "</div>"
      ],
      "text/plain": [
       "          count unique    top   freq\n",
       "hohsex    77230      2      1  71452\n",
       "poor      77250      2  pobre  65392\n",
       "progresa  77250      2  basal  47560\n",
       "sex       77226      2      1  39556"
      ]
     },
     "execution_count": 4,
     "metadata": {},
     "output_type": "execute_result"
    }
   ],
   "source": [
    "#summary of categorical variables\n",
    "#including sex and hohsex as well as category\n",
    "df1 = df.copy()\n",
    "df1['sex'] = df1['sex'].astype('category')\n",
    "df1['hohsex'] = df1['hohsex'].astype('category')\n",
    "pd.DataFrame(df1.describe(include=['object', 'category']).transpose()).sort_index(axis=0)"
   ]
  },
  {
   "cell_type": "markdown",
   "metadata": {
    "ein.tags": [
     "worksheet-0"
    ],
    "slideshow": {
     "slide_type": "-"
    }
   },
   "source": [
    "### 1.2 Baseline Differences\n",
    "\n",
    "In this section we will check whether the baseline (1997) demographic characteristics **for the poor**  different in treatment and control villages? For this we will use a T-Test to determine whether there is a statistically significant difference in the average values of each of the variables in the dataset and focus only on the data from 1997 for individuals who are poor (i.e., poor=='pobre')."
   ]
  },
  {
   "cell_type": "code",
   "execution_count": 5,
   "metadata": {
    "autoscroll": "json-false",
    "collapsed": false,
    "ein.tags": [
     "worksheet-0"
    ],
    "slideshow": {
     "slide_type": "-"
    }
   },
   "outputs": [
    {
     "data": {
      "text/html": [
       "<div>\n",
       "<table border=\"1\" class=\"dataframe\">\n",
       "  <thead>\n",
       "    <tr style=\"text-align: right;\">\n",
       "      <th></th>\n",
       "      <th>Average value (Control villages)</th>\n",
       "      <th>Average value (Treatment villages)</th>\n",
       "      <th>Difference (Treat - Control)</th>\n",
       "      <th>p-value</th>\n",
       "    </tr>\n",
       "    <tr>\n",
       "      <th>Variable name</th>\n",
       "      <th></th>\n",
       "      <th></th>\n",
       "      <th></th>\n",
       "      <th></th>\n",
       "    </tr>\n",
       "  </thead>\n",
       "  <tbody>\n",
       "    <tr>\n",
       "      <th>sex</th>\n",
       "      <td>0.506556</td>\n",
       "      <td>0.520268</td>\n",
       "      <td>0.013713</td>\n",
       "      <td>1.959334e-02</td>\n",
       "    </tr>\n",
       "    <tr>\n",
       "      <th>indig</th>\n",
       "      <td>0.325306</td>\n",
       "      <td>0.316744</td>\n",
       "      <td>-0.008562</td>\n",
       "      <td>1.190039e-01</td>\n",
       "    </tr>\n",
       "    <tr>\n",
       "      <th>dist_sec</th>\n",
       "      <td>2.400687</td>\n",
       "      <td>2.399648</td>\n",
       "      <td>-0.001039</td>\n",
       "      <td>9.680703e-01</td>\n",
       "    </tr>\n",
       "    <tr>\n",
       "      <th>sc</th>\n",
       "      <td>0.815066</td>\n",
       "      <td>0.822697</td>\n",
       "      <td>0.007631</td>\n",
       "      <td>9.246651e-02</td>\n",
       "    </tr>\n",
       "    <tr>\n",
       "      <th>grc</th>\n",
       "      <td>3.733653</td>\n",
       "      <td>3.709214</td>\n",
       "      <td>-0.024439</td>\n",
       "      <td>3.955066e-01</td>\n",
       "    </tr>\n",
       "    <tr>\n",
       "      <th>fam_n</th>\n",
       "      <td>7.302939</td>\n",
       "      <td>7.281032</td>\n",
       "      <td>-0.021907</td>\n",
       "      <td>4.260542e-01</td>\n",
       "    </tr>\n",
       "    <tr>\n",
       "      <th>min_dist</th>\n",
       "      <td>103.098348</td>\n",
       "      <td>107.395231</td>\n",
       "      <td>4.296884</td>\n",
       "      <td>6.942943e-18</td>\n",
       "    </tr>\n",
       "    <tr>\n",
       "      <th>dist_cap</th>\n",
       "      <td>154.492095</td>\n",
       "      <td>151.801472</td>\n",
       "      <td>-2.690622</td>\n",
       "      <td>4.361914e-03</td>\n",
       "    </tr>\n",
       "    <tr>\n",
       "      <th>hohedu</th>\n",
       "      <td>2.660982</td>\n",
       "      <td>2.726729</td>\n",
       "      <td>0.065747</td>\n",
       "      <td>2.495527e-02</td>\n",
       "    </tr>\n",
       "    <tr>\n",
       "      <th>hohwag</th>\n",
       "      <td>580.694452</td>\n",
       "      <td>550.207086</td>\n",
       "      <td>-30.487366</td>\n",
       "      <td>2.851315e-04</td>\n",
       "    </tr>\n",
       "    <tr>\n",
       "      <th>welfare_index</th>\n",
       "      <td>661.593513</td>\n",
       "      <td>656.810476</td>\n",
       "      <td>-4.783037</td>\n",
       "      <td>4.048112e-04</td>\n",
       "    </tr>\n",
       "    <tr>\n",
       "      <th>hohsex</th>\n",
       "      <td>0.923387</td>\n",
       "      <td>0.925586</td>\n",
       "      <td>0.002199</td>\n",
       "      <td>4.795421e-01</td>\n",
       "    </tr>\n",
       "    <tr>\n",
       "      <th>hohage</th>\n",
       "      <td>44.270717</td>\n",
       "      <td>43.631234</td>\n",
       "      <td>-0.639483</td>\n",
       "      <td>2.387419e-06</td>\n",
       "    </tr>\n",
       "    <tr>\n",
       "      <th>age</th>\n",
       "      <td>10.785586</td>\n",
       "      <td>10.743825</td>\n",
       "      <td>-0.041761</td>\n",
       "      <td>2.474077e-01</td>\n",
       "    </tr>\n",
       "    <tr>\n",
       "      <th>grc97</th>\n",
       "      <td>3.733653</td>\n",
       "      <td>3.709214</td>\n",
       "      <td>-0.024439</td>\n",
       "      <td>3.955066e-01</td>\n",
       "    </tr>\n",
       "    <tr>\n",
       "      <th>sc97</th>\n",
       "      <td>0.815066</td>\n",
       "      <td>0.822697</td>\n",
       "      <td>0.007631</td>\n",
       "      <td>9.246651e-02</td>\n",
       "    </tr>\n",
       "  </tbody>\n",
       "</table>\n",
       "</div>"
      ],
      "text/plain": [
       "               Average value (Control villages)  \\\n",
       "Variable name                                     \n",
       "sex                                    0.506556   \n",
       "indig                                  0.325306   \n",
       "dist_sec                               2.400687   \n",
       "sc                                     0.815066   \n",
       "grc                                    3.733653   \n",
       "fam_n                                  7.302939   \n",
       "min_dist                             103.098348   \n",
       "dist_cap                             154.492095   \n",
       "hohedu                                 2.660982   \n",
       "hohwag                               580.694452   \n",
       "welfare_index                        661.593513   \n",
       "hohsex                                 0.923387   \n",
       "hohage                                44.270717   \n",
       "age                                   10.785586   \n",
       "grc97                                  3.733653   \n",
       "sc97                                   0.815066   \n",
       "\n",
       "               Average value (Treatment villages)  \\\n",
       "Variable name                                       \n",
       "sex                                      0.520268   \n",
       "indig                                    0.316744   \n",
       "dist_sec                                 2.399648   \n",
       "sc                                       0.822697   \n",
       "grc                                      3.709214   \n",
       "fam_n                                    7.281032   \n",
       "min_dist                               107.395231   \n",
       "dist_cap                               151.801472   \n",
       "hohedu                                   2.726729   \n",
       "hohwag                                 550.207086   \n",
       "welfare_index                          656.810476   \n",
       "hohsex                                   0.925586   \n",
       "hohage                                  43.631234   \n",
       "age                                     10.743825   \n",
       "grc97                                    3.709214   \n",
       "sc97                                     0.822697   \n",
       "\n",
       "               Difference (Treat - Control)       p-value  \n",
       "Variable name                                              \n",
       "sex                                0.013713  1.959334e-02  \n",
       "indig                             -0.008562  1.190039e-01  \n",
       "dist_sec                          -0.001039  9.680703e-01  \n",
       "sc                                 0.007631  9.246651e-02  \n",
       "grc                               -0.024439  3.955066e-01  \n",
       "fam_n                             -0.021907  4.260542e-01  \n",
       "min_dist                           4.296884  6.942943e-18  \n",
       "dist_cap                          -2.690622  4.361914e-03  \n",
       "hohedu                             0.065747  2.495527e-02  \n",
       "hohwag                           -30.487366  2.851315e-04  \n",
       "welfare_index                     -4.783037  4.048112e-04  \n",
       "hohsex                             0.002199  4.795421e-01  \n",
       "hohage                            -0.639483  2.387419e-06  \n",
       "age                               -0.041761  2.474077e-01  \n",
       "grc97                             -0.024439  3.955066e-01  \n",
       "sc97                               0.007631  9.246651e-02  "
      ]
     },
     "execution_count": 5,
     "metadata": {},
     "output_type": "execute_result"
    }
   ],
   "source": [
    "#filtering data for poor=pobre and year=97\n",
    "df1= progresa_df[(progresa_df['year']==97) & (progresa_df['poor'] =='pobre')]\n",
    "#dropping insignificant columns\n",
    "df1= df1.drop(['year', 'folnum', 'village','poor'], axis=1)\n",
    "#seperating control and treatment groups by progresa column values\n",
    "treat = df1[df1['progresa']=='basal'].drop(['progresa'], axis=1)\n",
    "control =df1[df1['progresa']=='0'].drop(['progresa'],axis=1)\n",
    "#removing na values from treatment and control\n",
    "treat = treat.dropna()\n",
    "control = control.dropna()\n",
    "#Final Combined Table\n",
    "baseline = pd.DataFrame({ 'Variable name': treat.transpose().index,\n",
    "                       'Average value (Treatment villages)': treat.describe().loc['mean'].transpose(),\n",
    "                        'Average value (Control villages)': control.describe().loc['mean'].transpose() })\n",
    "#calculating differences in averages\n",
    "baseline['Difference (Treat - Control)'] = baseline['Average value (Treatment villages)']- baseline[ 'Average value (Control villages)']\n",
    "#calculating p-values after running t test and adding to table\n",
    "#two independent samples with unequal variance t-test is run \n",
    "baseline['p-value']= stats.ttest_ind(treat, control, equal_var=False).pvalue\n",
    "#removing extra indexes\n",
    "baseline.set_index('Variable name', inplace=True)\n",
    "baseline.head(16)\n",
    "\n"
   ]
  },
  {
   "cell_type": "markdown",
   "metadata": {
    "ein.tags": [
     "worksheet-0"
    ],
    "slideshow": {
     "slide_type": "-"
    }
   },
   "source": [
    "### 1.3 Interpretation of Results\n"
   ]
  },
  {
   "cell_type": "markdown",
   "metadata": {
    "autoscroll": "json-false",
    "collapsed": false,
    "ein.tags": [
     "worksheet-0"
    ],
    "slideshow": {
     "slide_type": "-"
    }
   },
   "source": [
    "#### A: statistically significant differences: \n",
    "Although there is no statisticaly significant difference in the enrollment rate (sc) for the treatment and control groups in 1997 (as seen from p-value >0.05), the differences in other variables especially those associated with the head of the family and the location of village are showing high significance. For example, the age, education as well as wages of head of the family (hohage, hohedu, hohwag) have p-values lower than 0.05 showing significant difference. Same is true for distance from urban center and capital (min_dist, dist_cap) for the villages of the two groups.\n",
    "#### B: Why does it matter if there are differences at baseline?\n",
    "The success and validity of output of experiments involving testing on treatment and control groups (ex. A/B testing) depends upon the assumption that the treatment and control groups are selected purely by random sampling and hence both groups are equally representative of the different variables with no statistically significant difference in variables of interest. Only if this assumption is true, we can estimate the true effect of the experiment. If there are significant differences between these two groups then such variables may cause difference in output of experiment which is not related to or due to our experiment. These might also cause, in some cases, the variables to be non-exgenous as some error terms could depend upon these variables. Hence, it is important that there should be no significant differences between variables of interest.\n",
    "#### C: Further steps to be taken: \n",
    "As there are some significant difference in some variables in the treatment and control groups at baseline, while measuring the effect of treatment, we have to consider the impact of these variables along with our treatment. For example if we are creating a regression model then we have to consider the effect of these control variables as well along with our treatment effect to find out the true treatment effect."
   ]
  },
  {
   "cell_type": "markdown",
   "metadata": {
    "ein.tags": [
     "worksheet-0"
    ],
    "slideshow": {
     "slide_type": "-"
    }
   },
   "source": [
    "### 1.4 Graphical exploration, part 1\n",
    "\n",
    "In the next two sections we will explore the data graphically. \n",
    "\n",
    "In this section we will compute the average enrollment rate in 1997 for each level of household head education and then create a scatterplot to understand the relationships if any."
   ]
  },
  {
   "cell_type": "code",
   "execution_count": 6,
   "metadata": {
    "autoscroll": "json-false",
    "collapsed": false,
    "ein.tags": [
     "worksheet-0"
    ],
    "slideshow": {
     "slide_type": "-"
    }
   },
   "outputs": [
    {
     "data": {
      "image/png": "[encoded data removed]",
      "text/plain": [
       "<matplotlib.figure.Figure at 0x1ccff56ba58>"
      ]
     },
     "metadata": {},
     "output_type": "display_data"
    }
   ],
   "source": [
    "#filtering by year 1997 and grouping by household head education level \n",
    "# calculating mean of school enrollment\n",
    "df1 = pd.DataFrame(progresa_df[progresa_df['year']==97].groupby('hohedu', as_index=False)['sc'].mean())\n",
    "#plotting the two variables\n",
    "ax = df1.plot(x='hohedu', y='sc', kind='scatter', title='Household head education level vs enrollment rate in 1997')\n",
    "ax.set_xlabel('Household head education level')\n",
    "ax.set_ylabel('Average Enrollment Rate')\n",
    "plt.show()"
   ]
  },
  {
   "cell_type": "markdown",
   "metadata": {},
   "source": [
    "The scatterplot between the two variables for the year 1997 shows that for household head education level values less than 12, there is almost linear positive association between the two. After level 12 there is somewhat non-linear relation. So, in year 1997, before the progresa subsidy was provided, the average school enrollment rate shows somewhat positive association with household head education level upto a level of 12."
   ]
  },
  {
   "cell_type": "markdown",
   "metadata": {
    "ein.tags": [
     "worksheet-0"
    ],
    "slideshow": {
     "slide_type": "-"
    }
   },
   "source": [
    "### 1.5 Graphical exploration, part 2\n",
    "\n",
    "In this section we will create a histogram of village enrollment rates **among poor households in treated villages**, before and after treatment and then analyze the differences."
   ]
  },
  {
   "cell_type": "code",
   "execution_count": 7,
   "metadata": {
    "autoscroll": "json-false",
    "collapsed": false,
    "ein.tags": [
     "worksheet-0"
    ],
    "slideshow": {
     "slide_type": "-"
    }
   },
   "outputs": [
    {
     "data": {
      "image/png": "[encoded data removed]",
      "text/plain": [
       "<matplotlib.figure.Figure at 0x1ccff126048>"
      ]
     },
     "metadata": {},
     "output_type": "display_data"
    }
   ],
   "source": [
    "#selecting only poor treatment villages\n",
    "df2 = progresa_df[(progresa_df['progresa']=='basal') & (progresa_df['poor'] =='pobre')]\n",
    "#grouping by year and villageids and calculating average enrollment rate per village\n",
    "df2 = pd.DataFrame(df2.groupby(['year','village'], as_index=False)['sc'].mean())\n",
    "#overall average for 1997\n",
    "avg_97 = df2[df2['year']==97]['sc'].mean()\n",
    "#plotting distribution for year 1997\n",
    "plt.hist(df2[df2['year']==97]['sc'], facecolor='green')\n",
    "plt.xlabel('Distribution of Average Enrollment Rate for 1997 for poor treatment villages')\n",
    "plt.ylabel('frequency')\n",
    "#adding line for overall average\n",
    "plt.axvline(x= avg_97)\n",
    "plt.text(0.6, 60, 'avg='+ str(avg_97))\n",
    "plt.show()\n",
    "\n",
    "\n"
   ]
  },
  {
   "cell_type": "code",
   "execution_count": 8,
   "metadata": {
    "collapsed": false
   },
   "outputs": [
    {
     "data": {
      "image/png": "[encoded data removed]",
      "text/plain": [
       "<matplotlib.figure.Figure at 0x1ccff6afb70>"
      ]
     },
     "metadata": {},
     "output_type": "display_data"
    }
   ],
   "source": [
    "#overall average for 1998\n",
    "avg_98 = df2[df2['year']==98]['sc'].mean()\n",
    "#plotting distribution for year 1998\n",
    "plt.hist(df2[df2['year']==98]['sc'], facecolor='red')\n",
    "plt.xlabel('Distribution of Average Enrollment Rate for 1998 for poor treatment villages')\n",
    "plt.ylabel('frequency')\n",
    "#adding line for overall average\n",
    "plt.axvline(x= avg_98)\n",
    "plt.text(0.5, 70, 'avg='+ str(avg_98))\n",
    "plt.show()"
   ]
  },
  {
   "cell_type": "code",
   "execution_count": 9,
   "metadata": {
    "collapsed": false
   },
   "outputs": [
    {
     "name": "stdout",
     "output_type": "stream",
     "text": [
      "P-value for the t-test:  0.0442493434226\n"
     ]
    }
   ],
   "source": [
    "#t-test on enrollment rate in 1997 and 1998\n",
    "pValue = stats.ttest_ind(df2[df2['year']==97]['sc'], df2[df2['year']==98]['sc'], equal_var=False).pvalue\n",
    "print('P-value for the t-test: ', pValue)\n"
   ]
  },
  {
   "cell_type": "markdown",
   "metadata": {},
   "source": [
    "The histograms as well as the p-value of t-test tells us that the difference between the two means is statistically significant. Apart from the difference in mean, the distribution in 1998 seems more left skewed than the one in 1997 showing more higher values for enrollment rates. In this question we are calculating differences in eligible (poor) treatment group's enrollment rates before and after treatment, i.e. over time. "
   ]
  },
  {
   "cell_type": "markdown",
   "metadata": {
    "ein.tags": [
     "worksheet-0"
    ],
    "slideshow": {
     "slide_type": "-"
    }
   },
   "source": [
    "## Part 2: Measuring Impact\n",
    "\n",
    "### 2.1 Simple differences: T-test\n",
    "\n",
    "For the first step of measuring impact, we will perform some basic analysis for differences in enrollment rate in treatment and control village. For this we will:\n",
    "\n",
    "* calculate the average enrollment rate among **poor** households in the Treatment villages and the average enrollment rate among **poor** households in the control villages.\n",
    "* Use a t-test to determine if this difference is statistically significant."
   ]
  },
  {
   "cell_type": "code",
   "execution_count": 10,
   "metadata": {
    "autoscroll": "json-false",
    "collapsed": false,
    "ein.tags": [
     "worksheet-0"
    ],
    "slideshow": {
     "slide_type": "-"
    }
   },
   "outputs": [
    {
     "name": "stdout",
     "output_type": "stream",
     "text": [
      "Average Enrollment for Treatment villages in 1998: 0.849257030578411\n",
      "Average Enrollment for Control Villages in 1998: 0.810923092511906\n",
      "Difference in Average: (treat-control): 0.03833393806650498\n",
      "P-value for T-test:  2.40921106138e-15\n"
     ]
    }
   ],
   "source": [
    "#filtering data for year 1998 and poor houses\n",
    "df3 = progresa_df[(progresa_df['year']==98) & (progresa_df['poor']=='pobre')].dropna()\n",
    "#seperating treatment and control and calculating average\n",
    "treat = df3[df3['progresa']=='basal']\n",
    "control = df3[df3['progresa']=='0']\n",
    "#enrollment averages\n",
    "treatEnroll = treat['sc'].mean()\n",
    "controlEnroll = control['sc'].mean()\n",
    "print('Average Enrollment for Treatment villages in 1998:', treatEnroll)\n",
    "print('Average Enrollment for Control Villages in 1998:', controlEnroll)\n",
    "print('Difference in Average: (treat-control):', treatEnroll-controlEnroll)\n",
    "#t-test\n",
    "pValue = stats.ttest_ind(treat['sc'], control['sc'], equal_var=False).pvalue\n",
    "print('P-value for T-test: ', pValue)\n",
    "\n"
   ]
  },
  {
   "cell_type": "markdown",
   "metadata": {},
   "source": [
    "The p-value from the t-test tells us that the difference is significant between the average enrollment rate in 1998 for poor treatment and control group. The significant difference gives us a hint that progresa subsidy might have a hand in increasing the enrollment rates of treatment villages. But, to confirm this other control variables should also be considered.\n",
    "\n",
    "In this we are calculating the difference between enrollment rates for treatment group and control group after the program has taken place (1998)."
   ]
  },
  {
   "cell_type": "markdown",
   "metadata": {
    "ein.tags": [
     "worksheet-0"
    ],
    "slideshow": {
     "slide_type": "-"
    }
   },
   "source": [
    "### 2.2 Simple differences: Regression\n",
    "\n",
    "Now we will estimate the effects of Progresa on enrollment using a regression model, by regressing the 1998 enrollment rates **of the poor** on treatment assignment.\n"
   ]
  },
  {
   "cell_type": "code",
   "execution_count": 11,
   "metadata": {
    "autoscroll": "json-false",
    "collapsed": false,
    "ein.tags": [
     "worksheet-0"
    ],
    "slideshow": {
     "slide_type": "-"
    }
   },
   "outputs": [
    {
     "name": "stdout",
     "output_type": "stream",
     "text": [
      "                            OLS Regression Results                            \n",
      "==============================================================================\n",
      "Dep. Variable:                     sc   R-squared:                       0.003\n",
      "Model:                            OLS   Adj. R-squared:                  0.002\n",
      "Method:                 Least Squares   F-statistic:                     65.64\n",
      "Date:                Mon, 13 Feb 2017   Prob (F-statistic):           5.66e-16\n",
      "Time:                        15:02:56   Log-Likelihood:                -11171.\n",
      "No. Observations:               26155   AIC:                         2.235e+04\n",
      "Df Residuals:                   26153   BIC:                         2.236e+04\n",
      "Df Model:                           1                                         \n",
      "Covariance Type:            nonrobust                                         \n",
      "=====================================================================================\n",
      "                        coef    std err          t      P>|t|      [95.0% Conf. Int.]\n",
      "-------------------------------------------------------------------------------------\n",
      "Intercept             0.8109      0.004    217.190      0.000         0.804     0.818\n",
      "progresa[T.basal]     0.0383      0.005      8.102      0.000         0.029     0.048\n",
      "==============================================================================\n",
      "Omnibus:                     7487.800   Durbin-Watson:                   1.734\n",
      "Prob(Omnibus):                  0.000   Jarque-Bera (JB):            15756.374\n",
      "Skew:                          -1.796   Prob(JB):                         0.00\n",
      "Kurtosis:                       4.245   Cond. No.                         3.02\n",
      "==============================================================================\n",
      "\n",
      "Warnings:\n",
      "[1] Standard Errors assume that the covariance matrix of the errors is correctly specified.\n"
     ]
    }
   ],
   "source": [
    "#filtering data for year 1998 and poor houses\n",
    "df3 = progresa_df[(progresa_df['year']==98) & (progresa_df['poor']=='pobre')].dropna()\n",
    "#linear regression model over sc and treatment factor\n",
    "mod = smf.ols(formula='sc ~ progresa', data = df3)\n",
    "result = mod.fit()\n",
    "#summary of fit \n",
    "print (result.summary())"
   ]
  },
  {
   "cell_type": "markdown",
   "metadata": {},
   "source": [
    "According to the linear regression model fitted in above step, the progresa subsidy increase the likelihood of a child enrolling by 0.0383 units. The p-value for this estimator shows that it is very significant, although low R-squared values denotes the presence of other control variables that also effects the enrollment rate.\n",
    "\n",
    "The estimator calculated in this step is almost equal to the one calculated in the previous step denoting same effect of progresa subsidy. As the p-value of estimator is very low we can definitely say that we can reject the hypothesis that the effect of treatment is null. Although, we can reject the null hypothesis, more work is required to estimate the true effect of treatment as the model is not showing good goodness-of-fit values.\n",
    "\n",
    "According to David Hume's defination of counterfactual condition: \"We may define a cause to be an object followed by another ... where, if the first object had not been, the second never had existed.\" (Menzies, 2014). So, in case of this regression the counterfactual condition would state that: If the treatment was not present, i.e. in case of no existence of progresa subsidies, the significant difference that we found in enrollment rate of eligible villages would also be non-existent, i.e. no significant difference would be there in enrollment rate if progresa is not there.\n",
    "\n"
   ]
  },
  {
   "cell_type": "markdown",
   "metadata": {
    "ein.tags": [
     "worksheet-0"
    ],
    "slideshow": {
     "slide_type": "-"
    }
   },
   "source": [
    "### 2.3 Multiple Regression\n",
    "\n",
    "As we saw earlier there are several variables other than the progresa treatment that have a significant impact on enrollment rates. So, we have to consider these variables as well while analyzing the program impact. We will re-run the above regression estimated but this time include a set of control variables, for instance, age, distance to a secondary school, gender, education of household head, indigenous, etc.\n"
   ]
  },
  {
   "cell_type": "code",
   "execution_count": 12,
   "metadata": {
    "autoscroll": "json-false",
    "collapsed": false,
    "ein.tags": [
     "worksheet-0"
    ],
    "slideshow": {
     "slide_type": "-"
    }
   },
   "outputs": [
    {
     "name": "stdout",
     "output_type": "stream",
     "text": [
      "                            OLS Regression Results                            \n",
      "==============================================================================\n",
      "Dep. Variable:                     sc   R-squared:                       0.263\n",
      "Model:                            OLS   Adj. R-squared:                  0.263\n",
      "Method:                 Least Squares   F-statistic:                     1557.\n",
      "Date:                Mon, 13 Feb 2017   Prob (F-statistic):               0.00\n",
      "Time:                        15:04:43   Log-Likelihood:                -7208.4\n",
      "No. Observations:               26155   AIC:                         1.443e+04\n",
      "Df Residuals:                   26148   BIC:                         1.449e+04\n",
      "Df Model:                           6                                         \n",
      "Covariance Type:            nonrobust                                         \n",
      "=====================================================================================\n",
      "                        coef    std err          t      P>|t|      [95.0% Conf. Int.]\n",
      "-------------------------------------------------------------------------------------\n",
      "Intercept             1.5206      0.010    157.308      0.000         1.502     1.539\n",
      "progresa[T.basal]     0.0349      0.004      8.590      0.000         0.027     0.043\n",
      "sex[T.1.0]            0.0308      0.004      7.809      0.000         0.023     0.039\n",
      "indig[T.1.0]          0.0494      0.004     11.684      0.000         0.041     0.058\n",
      "age                  -0.0650      0.001    -92.563      0.000        -0.066    -0.064\n",
      "dist_sec             -0.0110      0.001    -11.804      0.000        -0.013    -0.009\n",
      "hohedu                0.0082      0.001     10.346      0.000         0.007     0.010\n",
      "==============================================================================\n",
      "Omnibus:                     3020.420   Durbin-Watson:                   1.718\n",
      "Prob(Omnibus):                  0.000   Jarque-Bera (JB):             4179.881\n",
      "Skew:                          -0.968   Prob(JB):                         0.00\n",
      "Kurtosis:                       3.293   Cond. No.                         61.1\n",
      "==============================================================================\n",
      "\n",
      "Warnings:\n",
      "[1] Standard Errors assume that the covariance matrix of the errors is correctly specified.\n"
     ]
    }
   ],
   "source": [
    "#filtering data for year 1998 and poor houses\n",
    "df3 = progresa_df[(progresa_df['year']==98) & (progresa_df['poor']=='pobre')].dropna().copy()\n",
    "#taking sex and indig variables as categorical with two categories: 0.0 and 1.0\n",
    "df3['sex'] = df3['sex'].astype('category')\n",
    "df3['indig'] = df3['indig'].astype('category')\n",
    "#fitting multiple regression model by least sqaures\n",
    "mod1 = smf.ols(formula='sc ~ progresa+age+dist_sec+sex+hohedu+indig', data = df3)\n",
    "result1 = mod1.fit()\n",
    "#printing the summary of the fit\n",
    "print (result1.summary())\n"
   ]
  },
  {
   "cell_type": "markdown",
   "metadata": {},
   "source": [
    "After adding the control variables to the regression model we can see that the estimator for coeffcient of effect of treatment decreased sligthly from 0.0383 to 0.0349. On the other hand the standard error for the estimator falls down from 0.005 to 0.004 due to this change. This estimate of 0.0349 gives the effect of progresa subsidy on enrollment rate when other control variables are held constant. So, this estimate somewhat reduce the effect of other control variables and is more towards the true effect of treatment. The estimate in the previous step was not considering the effect of these control variables and hence was not giving us the true effect.\n",
    "\n",
    "The results tells us that, as noted in previous steps, the change in enrollment is not effected only by treatment and other control variables like age, education of head of house, etc., are also having some effect on it. As we have included these variables in the model estimation the point estimate for treatment is shifted more towards its actual value by reducing the standard error. Also, the R squared value tells us that the model is also better than the previous one."
   ]
  },
  {
   "cell_type": "markdown",
   "metadata": {
    "ein.tags": [
     "worksheet-0"
    ],
    "slideshow": {
     "slide_type": "-"
    }
   },
   "source": [
    "### 2.4 Difference-in-Difference, version 1 (tabular)\n",
    "\n",
    "Thus far, we have computed the effects of Progresa by estimating the difference in 1998 enrollment rates across villages. An alternative approach would be to compute the treatment effect using a difference-in-differences framework.\n",
    "\n",
    "We will begin by estimating the average treatment effects of the program for poor households using data from 1997 and 1998. Specifically, we will calculate the difference (between 1997 and 1998) in enrollment rates among poor households in treated villages; then compute the difference (between 1997 and 1998) in enrollment rates among poor households in treated villages. The difference between these two differences is the final estimate."
   ]
  },
  {
   "cell_type": "code",
   "execution_count": 13,
   "metadata": {
    "autoscroll": "json-false",
    "collapsed": false,
    "ein.tags": [
     "worksheet-0"
    ],
    "slideshow": {
     "slide_type": "-"
    }
   },
   "outputs": [
    {
     "name": "stdout",
     "output_type": "stream",
     "text": [
      "First Difference estimate: 0.0265605074256\n",
      "Sec Difference estimate: -0.004142465805\n",
      "Difference in Difference estimate: 0.0307029732307\n"
     ]
    }
   ],
   "source": [
    "#the difference (between 1997 and 1998) in enrollment rates among poor households in treated villages\n",
    "df4 = progresa_df[(progresa_df['poor']=='pobre') & (progresa_df['progresa']=='basal')].dropna()\n",
    "#group by year and calculate average enrollment rate\n",
    "df41 = pd.DataFrame(df4.groupby('year', as_index=False)['sc'].mean())\n",
    "#first difference\n",
    "D1= df41['sc'][1]-df41['sc'][0]\n",
    "print('First Difference estimate:', D1)\n",
    "#the difference (between 1997 and 1998) in enrollment rates among poor households in control villages\n",
    "df5 = progresa_df[(progresa_df['poor']=='pobre') & (progresa_df['progresa']=='0')].dropna()\n",
    "#group by year and calculate average enrollment rate\n",
    "df51 = pd.DataFrame(df5.groupby('year', as_index=False)['sc'].mean())\n",
    "#second difference\n",
    "D2= df51['sc'][1]-df51['sc'][0]\n",
    "print('Sec Difference estimate:', D2)\n",
    "\n",
    "#difference in difference\n",
    "DD = D1-D2\n",
    "print('Difference in Difference estimate:', DD)"
   ]
  },
  {
   "cell_type": "markdown",
   "metadata": {},
   "source": [
    "The estimate calculated by difference in differences framework lowered the effect of treatment further from 0.0349 in previous model to 0.0307. This is because this framework is taking baseline differences (at 1997 before treatment) in consideration and is calculating the effects by measuring the increase or decrease over time. So, this model gives us the factor by which the enrollment rate increased from its base value in 1997 in the two groups. As, this value is considering baseline effects over time, this is more accurate than the simple difference method where the baseline values were not considered.\n",
    "\n",
    "**Counterfactual Assumption: ** The conterfactual condition underlying this estimate is that without the presence of progresa subsidy the difference in enrollment rate over time from 1997 to 1998 in the two groups would not be statistically significant. "
   ]
  },
  {
   "cell_type": "markdown",
   "metadata": {
    "ein.tags": [
     "worksheet-0"
    ],
    "slideshow": {
     "slide_type": "-"
    }
   },
   "source": [
    "### 2.5 Difference-in-Difference, version 1 (regression)\n",
    "\n",
    "Now we will use a regression specification to estimate the average treatment effect of the program (on the poor) in a difference-in-differences framework."
   ]
  },
  {
   "cell_type": "code",
   "execution_count": 14,
   "metadata": {
    "autoscroll": "json-false",
    "collapsed": false,
    "ein.tags": [
     "worksheet-0"
    ],
    "slideshow": {
     "slide_type": "-"
    }
   },
   "outputs": [
    {
     "name": "stdout",
     "output_type": "stream",
     "text": [
      "                            OLS Regression Results                            \n",
      "==============================================================================\n",
      "Dep. Variable:                     sc   R-squared:                       0.279\n",
      "Model:                            OLS   Adj. R-squared:                  0.279\n",
      "Method:                 Least Squares   F-statistic:                     2499.\n",
      "Date:                Mon, 13 Feb 2017   Prob (F-statistic):               0.00\n",
      "Time:                        15:07:45   Log-Likelihood:                -16707.\n",
      "No. Observations:               58157   AIC:                         3.343e+04\n",
      "Df Residuals:                   58147   BIC:                         3.352e+04\n",
      "Df Model:                           9                                         \n",
      "Covariance Type:            nonrobust                                         \n",
      "================================================================================================\n",
      "                                   coef    std err          t      P>|t|      [95.0% Conf. Int.]\n",
      "------------------------------------------------------------------------------------------------\n",
      "Intercept                        1.4732      0.009    171.892      0.000         1.456     1.490\n",
      "progresa[T.basal]                0.0046      0.004      1.209      0.227        -0.003     0.012\n",
      "year[T.98]                       0.0273      0.004      6.269      0.000         0.019     0.036\n",
      "sex[T.1.0]                       0.0338      0.003     12.635      0.000         0.029     0.039\n",
      "progresa[T.basal]:year[T.98]     0.0314      0.006      5.681      0.000         0.021     0.042\n",
      "age                             -0.0657      0.000   -143.236      0.000        -0.067    -0.065\n",
      "dist_sec                        -0.0108      0.001    -17.451      0.000        -0.012    -0.010\n",
      "hohedu                           0.0084      0.001     14.445      0.000         0.007     0.010\n",
      "hohage                           0.0005      0.000      3.697      0.000         0.000     0.001\n",
      "indig                            0.0495      0.003     17.284      0.000         0.044     0.055\n",
      "==============================================================================\n",
      "Omnibus:                     5523.178   Durbin-Watson:                   1.484\n",
      "Prob(Omnibus):                  0.000   Jarque-Bera (JB):             7268.529\n",
      "Skew:                          -0.864   Prob(JB):                         0.00\n",
      "Kurtosis:                       3.113   Cond. No.                         314.\n",
      "==============================================================================\n",
      "\n",
      "Warnings:\n",
      "[1] Standard Errors assume that the covariance matrix of the errors is correctly specified.\n"
     ]
    }
   ],
   "source": [
    "# selecting only poor, copying dataframe to convert variables to categorical\n",
    "df6 = progresa_df[progresa_df['poor']=='pobre'].copy()\n",
    "#converting year, sex and progresa to categorical and\n",
    "df6['year'] = df6['year'].astype('category')\n",
    "df6['progresa']= df6['progresa'].astype('category')\n",
    "df6['sex']= df6['sex'].astype('category')\n",
    "\n",
    "#fitting a regression model for difference in difference framework\n",
    "\n",
    "mod2 = smf.ols(formula='sc ~ progresa+year+ (progresa*year)+age+dist_sec+sex+hohedu+hohage+indig', data = df6)\n",
    "result2 = mod2.fit()\n",
    "print (result2.summary())"
   ]
  },
  {
   "cell_type": "markdown",
   "metadata": {},
   "source": [
    "The coefficients in the model that gives the effect of progresa are the one belonging to progresa[T.basal] and the interaction term progresa[T.basal]:year[T.98] keeping all other variables constant. But, the p-value of these two terms tell us that the coefficient for progresa[T.basal] is not significant (as p-value>0.05), so this means that only the interaction term is significant here and we will study that only. \n",
    "If all the other variables are kept constant and year=1998 then being in reciever end of progresa treatment (progresa=basal) increases the likelihood of enrollment by 0.0314 units. But as we can see from the standard error of 0.006, the uncertainty in this effect is increased from the previous calculations. From the model, we can also see that other control variables as well are all showing significant effect on the likelihood of school enrollment.\n",
    "\n",
    "The estimate based on simple difference (calculated in section 2.1,2.2,2.3) wan't considering the interaction effect with year or effect over time. As seen with this model the effect of progresa is significant only if considered with year, which makes sense as the treatment was provided only in 1998 and not before that. So, any difference before the treatment was provided was not due to the progresa subsidy. So, this model gives the effect of treatment when considered over time and hence is more specific.\n",
    "\n",
    "The estimate calculated in 2.4 has almost similar value to this estimate but it accounts this effect entirely on progresa subsidy over time . Secion 2.4 consider the time interaction but it does not include the effect of other control variables which are very significant as seen by the p-values of this model. Including the control variables accounts for differences in the value of the estimator in this model. Hence, the estimate of this model that considers both the interaction with year as well as the effect of control variables is more significant. \n",
    "\n",
    "**Counterfactual Assumption: **The counterfactual assumption underlying this regression is that if over time from 1997 to 1998, by keeping the control variables as constant,  the progresa subsidy was not present then the increase in the likelihood of school enrollment(by about 0.0314 units) will also be non-existent. \n"
   ]
  },
  {
   "cell_type": "markdown",
   "metadata": {
    "ein.tags": [
     "worksheet-0"
    ],
    "slideshow": {
     "slide_type": "-"
    }
   },
   "source": [
    "### 2.6 Difference-in-Difference, version 2\n",
    "\n",
    "In the previous section, we estimated a difference-in-differences model that compared changes in enrollment rates over time across treatment and control villages. An alternative approach would be to compare enrollment rates in 1998 between poor and non-poor across treatment and control villages. "
   ]
  },
  {
   "cell_type": "code",
   "execution_count": 15,
   "metadata": {
    "autoscroll": "json-false",
    "collapsed": false,
    "ein.tags": [
     "worksheet-0"
    ],
    "slideshow": {
     "slide_type": "-"
    }
   },
   "outputs": [
    {
     "name": "stdout",
     "output_type": "stream",
     "text": [
      "                            OLS Regression Results                            \n",
      "==============================================================================\n",
      "Dep. Variable:                     sc   R-squared:                       0.269\n",
      "Model:                            OLS   Adj. R-squared:                  0.268\n",
      "Method:                 Least Squares   F-statistic:                     1304.\n",
      "Date:                Mon, 13 Feb 2017   Prob (F-statistic):               0.00\n",
      "Time:                        15:08:46   Log-Likelihood:                -9332.4\n",
      "No. Observations:               31971   AIC:                         1.868e+04\n",
      "Df Residuals:                   31961   BIC:                         1.877e+04\n",
      "Df Model:                           9                                         \n",
      "Covariance Type:            nonrobust                                         \n",
      "===================================================================================================\n",
      "                                      coef    std err          t      P>|t|      [95.0% Conf. Int.]\n",
      "---------------------------------------------------------------------------------------------------\n",
      "Intercept                           1.5287      0.014    107.786      0.000         1.501     1.556\n",
      "progresa[T.basal]                   0.0260      0.010      2.676      0.007         0.007     0.045\n",
      "poor[T.pobre]                      -0.0142      0.008     -1.716      0.086        -0.031     0.002\n",
      "progresa[T.basal]:poor[T.pobre]     0.0097      0.011      0.921      0.357        -0.011     0.030\n",
      "age                                -0.0661      0.001   -102.080      0.000        -0.067    -0.065\n",
      "dist_sec                           -0.0121      0.001    -14.474      0.000        -0.014    -0.010\n",
      "sex                                 0.0310      0.004      8.555      0.000         0.024     0.038\n",
      "hohedu                              0.0098      0.001     13.005      0.000         0.008     0.011\n",
      "hohage                              0.0003      0.000      1.661      0.097     -5.25e-05     0.001\n",
      "indig                               0.0473      0.004     11.785      0.000         0.039     0.055\n",
      "==============================================================================\n",
      "Omnibus:                     3218.236   Durbin-Watson:                   1.722\n",
      "Prob(Omnibus):                  0.000   Jarque-Bera (JB):             4301.553\n",
      "Skew:                          -0.897   Prob(JB):                         0.00\n",
      "Kurtosis:                       3.119   Cond. No.                         469.\n",
      "==============================================================================\n",
      "\n",
      "Warnings:\n",
      "[1] Standard Errors assume that the covariance matrix of the errors is correctly specified.\n"
     ]
    }
   ],
   "source": [
    "#taking only year 1998 and converting sex, progresa and poor to categorical\n",
    "df7 = progresa_df[progresa_df['year']==98].copy()\n",
    "df7['progresa'] = df7['progresa'].astype('category')\n",
    "df7['poor'] = df7['poor'].astype('category')\n",
    "df6['sex']= df6['sex'].astype('category')\n",
    "\n",
    "#fitting a regression model for version 2 of difference in difference framework\n",
    "\n",
    "mod3 = smf.ols(formula='sc ~ progresa+poor+ (progresa*poor)+age+dist_sec+sex+hohedu+hohage+indig', data = df7)\n",
    "result3 = mod3.fit()\n",
    "print (result3.summary())"
   ]
  },
  {
   "cell_type": "markdown",
   "metadata": {},
   "source": [
    "The effect of progresa treatment in this model will be given by the progresa term and the interaction term between progressa and poor. But as seen from the estimates and the p-values, in year 1998, the interaction term of progresa and poor has no significant value (p-value>0.05). Hence, we will consider only the effect of coefficient of progresa treatment which here is 0.0260 with a standard error of 0.010. This meana that in year 1998, if all other control variables are kept constant, then recieving the progresa subsidy increases the likelihood of enrollment in school by 0.0260 units. The standard error tells us that the uncertainty in this estimate is bit high at 0.01.\n",
    "\n",
    "The counterfactual condition on this regression states that, if in year 1998, for poor and non-poor families, if the progresa subsidy was not present then the increase in school enrollment was also not present.\n",
    "\n",
    "The effect of treatment in this model was lower than what we estimated in the models above as the interaction term between poor and progresa showed no significance. The reason behind this could be the 'spillover effect' that progresa subsidy could cause on poverty of people. This is because progresa program provides subsidy to the poor families so that they can enroll their children to school. But this subsidy also increases the monthly wages or welfare level of the people and hence some correlation factor could be seen causing effect on the estimates of this model.\n"
   ]
  },
  {
   "cell_type": "markdown",
   "metadata": {
    "ein.tags": [
     "worksheet-0"
    ],
    "slideshow": {
     "slide_type": "-"
    }
   },
   "source": [
    "### 2.7 Spillover effects\n",
    "\n",
    "Thus far, we have focused on the impact of PROGRESA on poor households. Now we will analyze some spillover effects by repeating the analysis in 2.5, using a double-difference regression to estimate the impact of PROGRESA on non-poor households. In other words, we will compare the difference in enrollments between 1997 and 1998 for non-poor households in treatment villages with the difference in enrollments between 1997 and 1998 for non-poor households in control villages.\n"
   ]
  },
  {
   "cell_type": "code",
   "execution_count": 16,
   "metadata": {
    "autoscroll": "json-false",
    "collapsed": false,
    "ein.tags": [
     "worksheet-0"
    ],
    "slideshow": {
     "slide_type": "-"
    }
   },
   "outputs": [
    {
     "name": "stdout",
     "output_type": "stream",
     "text": [
      "                            OLS Regression Results                            \n",
      "==============================================================================\n",
      "Dep. Variable:                     sc   R-squared:                       0.284\n",
      "Model:                            OLS   Adj. R-squared:                  0.283\n",
      "Method:                 Least Squares   F-statistic:                     456.3\n",
      "Date:                Mon, 13 Feb 2017   Prob (F-statistic):               0.00\n",
      "Time:                        15:09:56   Log-Likelihood:                -3700.0\n",
      "No. Observations:               10378   AIC:                             7420.\n",
      "Df Residuals:                   10368   BIC:                             7492.\n",
      "Df Model:                           9                                         \n",
      "Covariance Type:            nonrobust                                         \n",
      "================================================================================================\n",
      "                                   coef    std err          t      P>|t|      [95.0% Conf. Int.]\n",
      "------------------------------------------------------------------------------------------------\n",
      "Intercept                        1.5231      0.023     65.951      0.000         1.478     1.568\n",
      "progresa[T.basal]                0.0270      0.009      2.891      0.004         0.009     0.045\n",
      "year[T.98]                       0.0381      0.011      3.523      0.000         0.017     0.059\n",
      "progresa[T.basal]:year[T.98]    -0.0016      0.014     -0.113      0.910        -0.029     0.026\n",
      "age                             -0.0685      0.001    -59.556      0.000        -0.071    -0.066\n",
      "dist_sec                        -0.0163      0.002     -9.223      0.000        -0.020    -0.013\n",
      "sex                              0.0307      0.007      4.517      0.000         0.017     0.044\n",
      "hohedu                           0.0105      0.001      8.849      0.000         0.008     0.013\n",
      "hohage                           0.0004      0.000      1.093      0.275        -0.000     0.001\n",
      "indig                            0.0390      0.010      3.839      0.000         0.019     0.059\n",
      "==============================================================================\n",
      "Omnibus:                      846.571   Durbin-Watson:                   1.490\n",
      "Prob(Omnibus):                  0.000   Jarque-Bera (JB):              820.956\n",
      "Skew:                          -0.631   Prob(JB):                    5.39e-179\n",
      "Kurtosis:                       2.448   Cond. No.                         351.\n",
      "==============================================================================\n",
      "\n",
      "Warnings:\n",
      "[1] Standard Errors assume that the covariance matrix of the errors is correctly specified.\n"
     ]
    }
   ],
   "source": [
    "#converting year and progresa to categorical and selecting only non-poor\n",
    "df7 = progresa_df[progresa_df['poor']=='no pobre'].copy()\n",
    "df7['year'] = df7['year'].astype('category')\n",
    "df7['progresa']= df7['progresa'].astype('category')\n",
    "\n",
    "\n",
    "#fitting a regression model for difference in difference framework\n",
    "\n",
    "mod4 = smf.ols(formula='sc ~ progresa+year+ (progresa*year)+age+dist_sec+sex+hohedu+hohage+indig', data = df7)\n",
    "result4 = mod4.fit()\n",
    "print (result4.summary())"
   ]
  },
  {
   "cell_type": "markdown",
   "metadata": {},
   "source": [
    "#### A: why PROGRESA might have impacted non-poor households? \n",
    "As mentioned earlier, porgresa program included providing subsidy to poor people so that they could enroll their children into school. But, this subsidy could also cause the welfare index or poverty level of the poor people to increase as they gain more resources making them very similar to non-poors. Another situation could be of non-poor people who by very less marginal difference could not gain the subsidy. These people might try to decrease the enrollment or their welfare index in order to gain the benefits of the program. These two could be a reason why progresa could effect non-poor people.\n",
    "#### B: impacts of PROGRESA on the non-poor: \n",
    "From the point estimates of the regression model above we can see that the progresa treatment have an effect of 0.0270 units over enrollment of non-poor children if all other variables are kept constant (the interaction term is not significant with p-value>0.05). But the uncertainty of this effect with the standard error of 0.009 and a wide confidence interval (0.009-0.045) is also very high and the p-value, although less than 0.05, is also on the higher side. So, we can say that even though we can see the effect of progresa treatment over enrollment for non-poor families over time, the uncertainty associated with this estimate is also high.\n",
    "#### C: Assumptions: \n",
    "The assumption that we are using in measuring the impact of progresa for non-poor households is that, in case progresa is not present and all other demographic variables are constant, then there is no significant difference in the enrollment rate for non-poor households over the time from 1997 to 1998."
   ]
  },
  {
   "cell_type": "markdown",
   "metadata": {
    "ein.tags": [
     "worksheet-0"
    ],
    "slideshow": {
     "slide_type": "-"
    }
   },
   "source": [
    "### 2.8 Summary\n"
   ]
  },
  {
   "cell_type": "markdown",
   "metadata": {
    "autoscroll": "json-false",
    "collapsed": false,
    "ein.tags": [
     "worksheet-0"
    ],
    "slideshow": {
     "slide_type": "-"
    }
   },
   "source": [
    "By performing the causal analysis on the progresa data that was based on several counterfactual assumptions, we can say that there was a causal impact of progresa on the enrollment rate of poor households.\n",
    "\n",
    "Before beginning the analysis, in baseline study (1.2), we saw that the enrollment rate of control and treatment houses in 1997 (pre-program) do not have significant different (although other control variables were different, which were then included in further models). \n",
    "\n",
    "Starting the analysis from simple differences in which we compared the effect of progresa in the post treatment period of 1998 over treatment and control villages (2.1, 2.2, 2.3), we found that the difference in the enrollment rate was statistically significant even when we considered the effect of other control variables. \n",
    "\n",
    "The difference in differences version 1 (2.4, 2.5), in which we calculated the effect of progresa on treat and control villages over time. In this model we also considered the baseline values of enrollment variable inorder to remove the baseline effects along with the effect of control variables. In this case as well, the effect of treatment after keeping other variables constant, was statistically significant over time.\n",
    "\n",
    "The same was seen in the difference in differences version 2 (2.6) where we saw the effect over poor and non-poor families.\n",
    "\n",
    "Although the impact was slightly smaller for both difference in differences models and some spillover effects were also seen due to the treatment, we can conclude that, if the counterfactual assumptions made during analysis are true, there can be seen a slight causal effect of progresa treatment over the increase of enrollment rate of treated households over time.\n"
   ]
  },
  {
   "cell_type": "markdown",
   "metadata": {},
   "source": [
    "## References:\n",
    "\n",
    "Menzies, Peter, \"Counterfactual Theories of Causation\", The Stanford Encyclopedia of Philosophy (Spring 2014 Edition), Edward N. Zalta (ed.), Retrieved from https://plato.stanford.edu/archives/spr2014/entries/causation-counterfactual\n",
    "\n",
    "Shultz (2004 JDE) School subsidies for the poor - evaluating the Mexican Progresa poverty program, Journal of Development Economics 74 (2004) 199–250"
   ]
  }
 ],
 "metadata": {
  "anaconda-cloud": {},
  "kernelspec": {
   "display_name": "Python [default]",
   "language": "python",
   "name": "python3"
  },
  "language_info": {
   "codemirror_mode": {
    "name": "ipython",
    "version": 3
   },
   "file_extension": ".py",
   "mimetype": "text/x-python",
   "name": "python",
   "nbconvert_exporter": "python",
   "pygments_lexer": "ipython3",
   "version": "3.5.2"
  },
  "name": "INFX574-PS2.ipynb"
 },
 "nbformat": 4,
 "nbformat_minor": 2
}
